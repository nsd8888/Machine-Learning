{
 "cells": [
  {
   "cell_type": "code",
   "execution_count": 1,
   "id": "9e1c0ced",
   "metadata": {},
   "outputs": [],
   "source": [
    "import numpy as np\n",
    "import matplotlib.pyplot as plt\n",
    "import keras\n",
    "import tensorflow as tf\n",
    "#import tensorflow_hub as hub\n",
    "import tensorflow_datasets as tfds"
   ]
  },
  {
   "cell_type": "code",
   "execution_count": 2,
   "id": "62e16392",
   "metadata": {},
   "outputs": [],
   "source": [
    "train_data, validation_data, test_data = tfds.load(\n",
    "    name=\"imdb_reviews\",split=('train[:60%]', 'train[60%:]', 'test'),\n",
    "    as_supervised=True )"
   ]
  },
  {
   "cell_type": "code",
   "execution_count": 3,
   "id": "d74ce0e3",
   "metadata": {},
   "outputs": [],
   "source": [
    "\n",
    "X_train, y_train = next(iter(train_data.batch(len(train_data))))"
   ]
  },
  {
   "cell_type": "code",
   "execution_count": 4,
   "id": "43ce732a",
   "metadata": {},
   "outputs": [
    {
     "name": "stdout",
     "output_type": "stream",
     "text": [
      "tf.Tensor([0 0 0 ... 1 0 0], shape=(15000,), dtype=int64) <class 'tensorflow.python.framework.ops.EagerTensor'>\n",
      "tf.Tensor(\n",
      "[b\"This was an absolutely terrible movie. Don't be lured in by Christopher Walken or Michael Ironside. Both are great actors, but this must simply be their worst role in history. Even their great acting could not redeem this movie's ridiculous storyline. This movie is an early nineties US propaganda piece. The most pathetic scenes were those when the Columbian rebels were making their cases for revolutions. Maria Conchita Alonso appeared phony, and her pseudo-love affair with Walken was nothing but a pathetic emotional plug in a movie that was devoid of any real meaning. I am disappointed that there are movies like this, ruining actor's like Christopher Walken's good name. I could barely sit through it.\"\n",
      " b'I have been known to fall asleep during films, but this is usually due to a combination of things including, really tired, being warm and comfortable on the sette and having just eaten a lot. However on this occasion I fell asleep because the film was rubbish. The plot development was constant. Constantly slow and boring. Things seemed to happen, but with no explanation of what was causing them or why. I admit, I may have missed part of the film, but i watched the majority of it and everything just seemed to happen of its own accord without any real concern for anything else. I cant recommend this film at all.'\n",
      " b'Mann photographs the Alberta Rocky Mountains in a superb fashion, and Jimmy Stewart and Walter Brennan give enjoyable performances as they always seem to do. <br /><br />But come on Hollywood - a Mountie telling the people of Dawson City, Yukon to elect themselves a marshal (yes a marshal!) and to enforce the law themselves, then gunfighters battling it out on the streets for control of the town? <br /><br />Nothing even remotely resembling that happened on the Canadian side of the border during the Klondike gold rush. Mr. Mann and company appear to have mistaken Dawson City for Deadwood, the Canadian North for the American Wild West.<br /><br />Canadian viewers be prepared for a Reefer Madness type of enjoyable howl with this ludicrous plot, or, to shake your head in disgust.'\n",
      " ...\n",
      " b\"I saw this movie in my childhood. And after 10 years I did not remember anything about this movie but I found out it I also don't know how I was able to find out this movie. Its my life. My all times favorite movie. My words will fall short of true meaning what I have inside for this movie. I follow this movie. It's a brilliant mix of fantasy, comedy, romance, horror, erotic, scary and martial arts. The story about the power of love is pretty touching and warm. It's a masterpiece of Hong Kong Cinema.<br /><br />Sinnui Yauman, is without a doubt one of the best ghost stories ever made into film. Written by Songling Pu and directed by Siu-Tung Ching, A Chinese Ghost Story has it all. Ling Choi Sin played by Leslie Cheung is a young man down on his luck who goes in search of a monastery for lodging, deep in the woods, a place the villagers seem very afraid to go near. The trek alone is perilous with wolves, and a crazy taoist monk lives at the temple.<br /><br />Ling Choi Sin meets Tsing, a beautiful and mysterious young girl who also lives nearby in a deserted temple. She is forced to seduce men for her evil mistress, but when she meets innocent Ling Choi Sin they fall in love.<br /><br />Ling Choi Sin is sort of a bumbling fool but his heart is in the right place, while Tsing tries to protect him from the other spirits in the woods, he tries to protect her from the monk who is trying to kill the spirits in the woods. There's great martial arts, even a monk that breaks out into drunken song as he performs ritual taoist sword forms. The movie does a lot of traditional old martial art films acrobatics, with magic and flying through the air, leaping from tree to tree, with elegant long gowns and scarves, but the movie genuinely flows, and everything is effective.<br /><br />Tsing is to be married to a evil tree monster, which cant be good, and we feel her plight in her home where we meet her sisters and stepmother who is truly not nice.<br /><br />In the end they must fight a tree witch with a deadly tongue, and go with Yin deep into the heart of hell to fight a thousand year old evil to save their souls, and bring Ling's ashes back to her home for a proper burial so she may have a chance at reincarnation.<br /><br />A beautiful story that truly pays attention to details. One is touched in many ways by this movie, you'll laugh, cry, and just have fun with the great martial arts and cinematography. And though at the end, Yin and Ling Choi Sin ride off into the morning sun under a enchanting rainbow, we never know if Tsing was afforded a reincarnation, but we do know her.\"\n",
      " b\"COULD CONTAIN SPOILERS.....I'm surprised by the high rating of this film to be honest..really am. All I saw was a slow moving propaganda movie with nothing much to say. (Note to self must check the rating for Platoon on here)This movie was so black and white...Americans good...anyone else either evil or useless. I take it the British troops in it were meant to be SAS (one of the most elite units in the world most would agree with I'm pretty sure) they lost 3 men and the others ran away while the US troops who weren't even Elite soldiers in the fighting sense held the ground and opened up a can of whoop ass on them evil sneaky Iraqis. Aye dead-on strings to mind. The only good thing I have to say about this movie did come in this sense when the sniper took out the SAS man...muzzle flash from distance, good noise used...really well done that bit but the rest...Spare me what am I 10 years of age over here??!! Well I'm not and can see nonsense propaganda in a movie and boy did this movie have it.<br /><br />SPOILER...Oh aye and in the main crazy,wild guy can't stay at home with his wife and young child..no he has to sign up for another year to fight in a nonsense lie of a war!! Why...because young men need thrills or something apparently. Like say I'm surprised by the high rating of this movie really am.<br /><br />P.S. I'm not hating America I'm hating the message of this movie that seems to not even want to confront issues of an illegal war (in my eyes) which OK fair enough because clearly there are people out there who think it's a just war for whatever messed up reason (wanted to say something else her but censored) but hey that's up to them. But to churn out a movie so one-sided like it's black and white...good v evil is lazy and treating me as a child. In war there is a lot of grey and it's two (sometimes more)sides who believe in what they are fighting for. Not Star Wars with something something dark side verses the goodies. F' sake Hollywood at times you really do take people for mugs...then again 7.8....well maybe you are right to but I'll not be buying it. Glad I downloaded this movie tell you all that for nothing. ;)\"\n",
      " b'Long, boring, blasphemous. Never have I been so glad to see ending credits roll.'], shape=(15000,), dtype=string) <class 'tensorflow.python.framework.ops.EagerTensor'>\n"
     ]
    }
   ],
   "source": [
    "print(y_train,type(y_train))\n",
    "print(X_train,type(X_train))"
   ]
  },
  {
   "cell_type": "code",
   "execution_count": 5,
   "id": "645b71e1",
   "metadata": {},
   "outputs": [],
   "source": [
    "import pandas as pd\n",
    "df=pd.DataFrame()\n",
    "df['review']=X_train.numpy()\n",
    "df['sentiment']=y_train.numpy()"
   ]
  },
  {
   "cell_type": "code",
   "execution_count": 6,
   "id": "85ba9581",
   "metadata": {},
   "outputs": [],
   "source": [
    "df['review']=df['review'].str.decode(encoding='UTF-8')"
   ]
  },
  {
   "cell_type": "code",
   "execution_count": 7,
   "id": "cd89aa28",
   "metadata": {},
   "outputs": [
    {
     "data": {
      "text/html": [
       "<div>\n",
       "<style scoped>\n",
       "    .dataframe tbody tr th:only-of-type {\n",
       "        vertical-align: middle;\n",
       "    }\n",
       "\n",
       "    .dataframe tbody tr th {\n",
       "        vertical-align: top;\n",
       "    }\n",
       "\n",
       "    .dataframe thead th {\n",
       "        text-align: right;\n",
       "    }\n",
       "</style>\n",
       "<table border=\"1\" class=\"dataframe\">\n",
       "  <thead>\n",
       "    <tr style=\"text-align: right;\">\n",
       "      <th></th>\n",
       "      <th>sentiment</th>\n",
       "    </tr>\n",
       "  </thead>\n",
       "  <tbody>\n",
       "    <tr>\n",
       "      <th>count</th>\n",
       "      <td>15000.000000</td>\n",
       "    </tr>\n",
       "    <tr>\n",
       "      <th>mean</th>\n",
       "      <td>0.499333</td>\n",
       "    </tr>\n",
       "    <tr>\n",
       "      <th>std</th>\n",
       "      <td>0.500016</td>\n",
       "    </tr>\n",
       "    <tr>\n",
       "      <th>min</th>\n",
       "      <td>0.000000</td>\n",
       "    </tr>\n",
       "    <tr>\n",
       "      <th>25%</th>\n",
       "      <td>0.000000</td>\n",
       "    </tr>\n",
       "    <tr>\n",
       "      <th>50%</th>\n",
       "      <td>0.000000</td>\n",
       "    </tr>\n",
       "    <tr>\n",
       "      <th>75%</th>\n",
       "      <td>1.000000</td>\n",
       "    </tr>\n",
       "    <tr>\n",
       "      <th>max</th>\n",
       "      <td>1.000000</td>\n",
       "    </tr>\n",
       "  </tbody>\n",
       "</table>\n",
       "</div>"
      ],
      "text/plain": [
       "          sentiment\n",
       "count  15000.000000\n",
       "mean       0.499333\n",
       "std        0.500016\n",
       "min        0.000000\n",
       "25%        0.000000\n",
       "50%        0.000000\n",
       "75%        1.000000\n",
       "max        1.000000"
      ]
     },
     "execution_count": 7,
     "metadata": {},
     "output_type": "execute_result"
    }
   ],
   "source": [
    "df.describe()"
   ]
  },
  {
   "cell_type": "code",
   "execution_count": 8,
   "id": "ce5d58b2",
   "metadata": {},
   "outputs": [
    {
     "data": {
      "text/html": [
       "<div>\n",
       "<style scoped>\n",
       "    .dataframe tbody tr th:only-of-type {\n",
       "        vertical-align: middle;\n",
       "    }\n",
       "\n",
       "    .dataframe tbody tr th {\n",
       "        vertical-align: top;\n",
       "    }\n",
       "\n",
       "    .dataframe thead th {\n",
       "        text-align: right;\n",
       "    }\n",
       "</style>\n",
       "<table border=\"1\" class=\"dataframe\">\n",
       "  <thead>\n",
       "    <tr style=\"text-align: right;\">\n",
       "      <th></th>\n",
       "      <th>review</th>\n",
       "      <th>sentiment</th>\n",
       "    </tr>\n",
       "  </thead>\n",
       "  <tbody>\n",
       "    <tr>\n",
       "      <th>0</th>\n",
       "      <td>This was an absolutely terrible movie. Don't b...</td>\n",
       "      <td>0</td>\n",
       "    </tr>\n",
       "    <tr>\n",
       "      <th>1</th>\n",
       "      <td>I have been known to fall asleep during films,...</td>\n",
       "      <td>0</td>\n",
       "    </tr>\n",
       "    <tr>\n",
       "      <th>2</th>\n",
       "      <td>Mann photographs the Alberta Rocky Mountains i...</td>\n",
       "      <td>0</td>\n",
       "    </tr>\n",
       "    <tr>\n",
       "      <th>3</th>\n",
       "      <td>This is the kind of film for a snowy Sunday af...</td>\n",
       "      <td>1</td>\n",
       "    </tr>\n",
       "    <tr>\n",
       "      <th>4</th>\n",
       "      <td>As others have mentioned, all the women that g...</td>\n",
       "      <td>1</td>\n",
       "    </tr>\n",
       "  </tbody>\n",
       "</table>\n",
       "</div>"
      ],
      "text/plain": [
       "                                              review  sentiment\n",
       "0  This was an absolutely terrible movie. Don't b...          0\n",
       "1  I have been known to fall asleep during films,...          0\n",
       "2  Mann photographs the Alberta Rocky Mountains i...          0\n",
       "3  This is the kind of film for a snowy Sunday af...          1\n",
       "4  As others have mentioned, all the women that g...          1"
      ]
     },
     "execution_count": 8,
     "metadata": {},
     "output_type": "execute_result"
    }
   ],
   "source": [
    "df.head()"
   ]
  },
  {
   "cell_type": "code",
   "execution_count": 9,
   "id": "8767cade",
   "metadata": {},
   "outputs": [
    {
     "name": "stdout",
     "output_type": "stream",
     "text": [
      "(15000,) (15000,) (15000, 2)\n"
     ]
    }
   ],
   "source": [
    "from tensorflow.keras.utils import to_categorical\n",
    "train_text=df.review.values\n",
    "target=df.sentiment.values\n",
    "y=to_categorical(target)\n",
    "print(train_text.shape,target.shape,y.shape)"
   ]
  },
  {
   "cell_type": "code",
   "execution_count": 10,
   "id": "47667eb1",
   "metadata": {},
   "outputs": [],
   "source": [
    "X_test, y_test = next(iter(test_data.batch(len(test_data))))"
   ]
  },
  {
   "cell_type": "code",
   "execution_count": 11,
   "id": "54365531",
   "metadata": {},
   "outputs": [
    {
     "data": {
      "text/plain": [
       "25000"
      ]
     },
     "execution_count": 11,
     "metadata": {},
     "output_type": "execute_result"
    }
   ],
   "source": [
    "len(X_test)"
   ]
  },
  {
   "cell_type": "code",
   "execution_count": 12,
   "id": "1535bbcd",
   "metadata": {},
   "outputs": [
    {
     "data": {
      "text/plain": [
       "25000"
      ]
     },
     "execution_count": 12,
     "metadata": {},
     "output_type": "execute_result"
    }
   ],
   "source": [
    "len(y_test)"
   ]
  },
  {
   "cell_type": "code",
   "execution_count": 13,
   "id": "ae0b114c",
   "metadata": {},
   "outputs": [],
   "source": [
    "df_test=pd.DataFrame()\n",
    "df_test['review']=X_test.numpy()\n",
    "df_test['sentiment']=y_test.numpy()\n",
    "df_test['review']=df_test['review'].str.decode(encoding='UTF-8')"
   ]
  },
  {
   "cell_type": "code",
   "execution_count": 14,
   "id": "fb37b1ff",
   "metadata": {},
   "outputs": [
    {
     "name": "stdout",
     "output_type": "stream",
     "text": [
      "(25000,) (25000,) (25000, 2)\n"
     ]
    }
   ],
   "source": [
    "from tensorflow.keras.utils import to_categorical\n",
    "test_text=df_test.review.values\n",
    "target_y=df_test.sentiment.values\n",
    "y_test=to_categorical(target_y)\n",
    "print(test_text.shape,target_y.shape,y_test.shape)"
   ]
  },
  {
   "cell_type": "code",
   "execution_count": 15,
   "id": "5adc27f9",
   "metadata": {},
   "outputs": [],
   "source": [
    "X_val, y_val = next(iter(validation_data.batch(len(validation_data))))"
   ]
  },
  {
   "cell_type": "code",
   "execution_count": 16,
   "id": "c5213e44",
   "metadata": {},
   "outputs": [],
   "source": [
    "df_val=pd.DataFrame()\n",
    "df_val['review']=X_val.numpy()\n",
    "df_val['sentiment']=y_val.numpy()"
   ]
  },
  {
   "cell_type": "code",
   "execution_count": 17,
   "id": "0e421386",
   "metadata": {},
   "outputs": [],
   "source": [
    "df_val['review']=df_val['review'].str.decode(encoding='UTF-8')"
   ]
  },
  {
   "cell_type": "code",
   "execution_count": 18,
   "id": "0954cc3f",
   "metadata": {},
   "outputs": [
    {
     "name": "stdout",
     "output_type": "stream",
     "text": [
      "(10000,) (10000,) (10000, 2)\n"
     ]
    }
   ],
   "source": [
    "from tensorflow.keras.utils import to_categorical\n",
    "val_text=df_val.review.values\n",
    "target_v=df_val.sentiment.values\n",
    "y_val=to_categorical(target_v)\n",
    "print(val_text.shape,target_v.shape,y_val.shape)"
   ]
  },
  {
   "cell_type": "code",
   "execution_count": 19,
   "id": "4fed5a83",
   "metadata": {},
   "outputs": [
    {
     "data": {
      "text/html": [
       "<div>\n",
       "<style scoped>\n",
       "    .dataframe tbody tr th:only-of-type {\n",
       "        vertical-align: middle;\n",
       "    }\n",
       "\n",
       "    .dataframe tbody tr th {\n",
       "        vertical-align: top;\n",
       "    }\n",
       "\n",
       "    .dataframe thead th {\n",
       "        text-align: right;\n",
       "    }\n",
       "</style>\n",
       "<table border=\"1\" class=\"dataframe\">\n",
       "  <thead>\n",
       "    <tr style=\"text-align: right;\">\n",
       "      <th></th>\n",
       "      <th>review</th>\n",
       "      <th>sentiment</th>\n",
       "    </tr>\n",
       "  </thead>\n",
       "  <tbody>\n",
       "    <tr>\n",
       "      <th>0</th>\n",
       "      <td>This was a superb episode, one of the best of ...</td>\n",
       "      <td>1</td>\n",
       "    </tr>\n",
       "    <tr>\n",
       "      <th>1</th>\n",
       "      <td>Four teenage girlfriends drive to Fort Laurdal...</td>\n",
       "      <td>1</td>\n",
       "    </tr>\n",
       "    <tr>\n",
       "      <th>2</th>\n",
       "      <td>David Duchovney creates a role that he was to ...</td>\n",
       "      <td>1</td>\n",
       "    </tr>\n",
       "    <tr>\n",
       "      <th>3</th>\n",
       "      <td>This, despite not being the original - it bega...</td>\n",
       "      <td>1</td>\n",
       "    </tr>\n",
       "    <tr>\n",
       "      <th>4</th>\n",
       "      <td>I recently saw I.Q. and even though I'm not a ...</td>\n",
       "      <td>1</td>\n",
       "    </tr>\n",
       "  </tbody>\n",
       "</table>\n",
       "</div>"
      ],
      "text/plain": [
       "                                              review  sentiment\n",
       "0  This was a superb episode, one of the best of ...          1\n",
       "1  Four teenage girlfriends drive to Fort Laurdal...          1\n",
       "2  David Duchovney creates a role that he was to ...          1\n",
       "3  This, despite not being the original - it bega...          1\n",
       "4  I recently saw I.Q. and even though I'm not a ...          1"
      ]
     },
     "execution_count": 19,
     "metadata": {},
     "output_type": "execute_result"
    }
   ],
   "source": [
    "df_val.head()"
   ]
  },
  {
   "cell_type": "code",
   "execution_count": 20,
   "id": "c14c4463",
   "metadata": {},
   "outputs": [
    {
     "name": "stderr",
     "output_type": "stream",
     "text": [
      "c:\\python\\lib\\site-packages\\seaborn\\_decorators.py:36: FutureWarning: Pass the following variable as a keyword arg: x. From version 0.12, the only valid positional argument will be `data`, and passing other arguments without an explicit keyword will result in an error or misinterpretation.\n",
      "  warnings.warn(\n"
     ]
    },
    {
     "data": {
      "text/plain": [
       "<AxesSubplot:xlabel='sentiment', ylabel='count'>"
      ]
     },
     "execution_count": 20,
     "metadata": {},
     "output_type": "execute_result"
    },
    {
     "data": {
      "image/png": "[encoded data removed]",
      "text/plain": [
       "<Figure size 432x288 with 1 Axes>"
      ]
     },
     "metadata": {
      "needs_background": "light"
     },
     "output_type": "display_data"
    }
   ],
   "source": [
    "import seaborn as sns\n",
    "sns.countplot(df['sentiment'])"
   ]
  },
  {
   "cell_type": "code",
   "execution_count": 21,
   "id": "44d7a8b9",
   "metadata": {},
   "outputs": [],
   "source": [
    "#Text preeration\n",
    "import re"
   ]
  },
  {
   "cell_type": "code",
   "execution_count": 22,
   "id": "e256b4c4",
   "metadata": {},
   "outputs": [],
   "source": [
    "stopwords=[\"a\", \"about\", \"above\", \"after\", \"again\", \"against\", \"all\", \"am\", \"an\", \"and\", \"any\", \"are\", \"as\", \"at\", \"be\", \"because\", \"been\", \"before\", \"being\", \"below\", \"between\", \"both\", \"but\", \"by\", \"could\", \"did\", \"do\", \"does\", \"doing\", \"down\", \"during\", \"each\", \"few\", \"for\", \"from\", \"further\", \"had\", \"has\", \"have\", \"having\", \"he\", \"he'd\", \"he'll\", \"he's\", \"her\", \"here\", \"here's\", \"hers\", \"herself\", \"him\", \"himself\", \"his\", \"how\", \"how's\", \"i\", \"i'd\", \"i'll\", \"i'm\", \"i've\", \"if\", \"in\", \"into\", \"is\", \"it\", \"it's\", \"its\", \"itself\", \"let's\", \"me\", \"more\", \"most\", \"my\", \"myself\", \"nor\", \"of\", \"on\", \"once\", \"only\", \"or\", \"other\", \"ought\", \"our\", \"ours\", \"ourselves\", \"out\", \"over\", \"own\", \"same\", \"she\", \"she'd\", \"she'll\", \"she's\", \"should\", \"so\", \"some\", \"such\", \"than\", \"that\", \"that's\", \"the\", \"their\", \"theirs\", \"them\", \"themselves\", \"then\", \"there\", \"there's\", \"these\", \"they\", \"they'd\", \"they'll\", \"they're\", \"they've\", \"this\", \"those\", \"through\", \"to\", \"too\", \"under\", \"until\", \"up\", \"very\", \"was\", \"we\", \"we'd\", \"we'll\", \"we're\", \"we've\", \"were\", \"what\", \"what's\", \"when\", \"when's\", \"where\", \"where's\", \"which\", \"while\", \"who\", \"who's\", \"whom\", \"why\", \"why's\", \"with\", \"would\", \"you\", \"you'd\", \"you'll\", \"you're\", \"you've\", \"your\", \"yours\", \"yourself\", \"yourselves\" ]\n",
    "stopwords.append('movie')\n",
    "stopwords.append('film')\n",
    "\n",
    "# to remove the stopwords from text\n",
    "def remove_stopwords(text):\n",
    "    final_text = []\n",
    "    for i in text.split():\n",
    "        if i.strip().lower() not in stopwords:\n",
    "            final_text.append(i.strip())\n",
    "    return \" \".join(final_text)"
   ]
  },
  {
   "cell_type": "code",
   "execution_count": 23,
   "id": "78a4cc70",
   "metadata": {},
   "outputs": [],
   "source": [
    "#to remove non alphanumeric char\n",
    "def alpha_num(text):\n",
    "    return re.sub(r'[^A-Za-z0-9]',\" \",text)\n",
    "\n",
    "#to remove URLs:\n",
    "def remove_url(text):\n",
    "    url=re.compile(r'https?://\\S+|www\\.\\s+')\n",
    "    return url.sub(r\"\",text)\n"
   ]
  },
  {
   "cell_type": "code",
   "execution_count": 24,
   "id": "35fb4103",
   "metadata": {},
   "outputs": [],
   "source": [
    "\n",
    "############## deta Cleaning ########################\n",
    "\n",
    "df['review'] = df['review'].str.lower()\n",
    "df['review'] = df['review'].apply(remove_url)\n",
    "df['review'] = df['review'].apply(alpha_num)\n",
    "df['review'] = df['review'].apply(remove_stopwords)\n",
    "\n",
    "\n",
    "df_test['review']=df_test['review'].str.lower()\n",
    "df_test['review'] = df_test['review'].apply(remove_url)\n",
    "df_test['review'] = df_test['review'].apply(alpha_num)\n",
    "df_test['review'] = df_test['review'].apply(remove_stopwords)\n",
    "\n",
    "\n",
    "df_val['review'] = df_val['review'].str.lower()\n",
    "df_val['review'] = df_val['review'].apply(remove_url)\n",
    "df_val['review'] = df_val['review'].apply(alpha_num)\n",
    "df_val['review'] = df_val['review'].apply(remove_stopwords)\n",
    "\n",
    "\n",
    "\n"
   ]
  },
  {
   "cell_type": "code",
   "execution_count": null,
   "id": "8bde3e0e",
   "metadata": {},
   "outputs": [],
   "source": []
  },
  {
   "cell_type": "code",
   "execution_count": 25,
   "id": "f5ef44fa",
   "metadata": {},
   "outputs": [],
   "source": [
    "\n",
    "\n",
    "from tensorflow.keras.preprocessing.text import Tokenizer\n",
    "from tensorflow.keras.preprocessing.sequence import pad_sequences\n",
    "\n",
    "\n",
    "tokenizer=Tokenizer(num_words=15000)\n",
    "tokenizer.fit_on_texts(train_text)\n",
    "\n",
    "\n",
    "\n",
    "X_train=tokenizer.texts_to_sequences(train_text)\n",
    "X_train=pad_sequences(X_train,padding=\"post\",maxlen=256)\n",
    "\n",
    "X_test=tokenizer.texts_to_sequences(test_text)\n",
    "X_test=pad_sequences(X_test,padding=\"post\",maxlen=256)\n",
    "\n",
    "X_val=tokenizer.texts_to_sequences(val_text)\n",
    "X_val=pad_sequences(X_val,padding=\"post\",maxlen=256)\n",
    "\n"
   ]
  },
  {
   "cell_type": "code",
   "execution_count": 26,
   "id": "e3846e68",
   "metadata": {},
   "outputs": [
    {
     "name": "stdout",
     "output_type": "stream",
     "text": [
      "60348\n"
     ]
    }
   ],
   "source": [
    "vocab_size=len(tokenizer.word_index)+1\n",
    "print(vocab_size)"
   ]
  },
  {
   "cell_type": "code",
   "execution_count": 27,
   "id": "98ea20e4",
   "metadata": {},
   "outputs": [
    {
     "name": "stdout",
     "output_type": "stream",
     "text": [
      "Model: \"sequential\"\n",
      "_________________________________________________________________\n",
      "Layer (type)                 Output Shape              Param #   \n",
      "=================================================================\n",
      "embedding (Embedding)        (None, None, 250)         15087000  \n",
      "_________________________________________________________________\n",
      "lstm (LSTM)                  (None, None, 128)         194048    \n",
      "_________________________________________________________________\n",
      "dropout (Dropout)            (None, None, 128)         0         \n",
      "_________________________________________________________________\n",
      "lstm_1 (LSTM)                (None, 64)                49408     \n",
      "_________________________________________________________________\n",
      "dropout_1 (Dropout)          (None, 64)                0         \n",
      "_________________________________________________________________\n",
      "dense (Dense)                (None, 2)                 130       \n",
      "=================================================================\n",
      "Total params: 15,330,586\n",
      "Trainable params: 15,330,586\n",
      "Non-trainable params: 0\n",
      "_________________________________________________________________\n"
     ]
    }
   ],
   "source": [
    "from keras.models import Sequential\n",
    "from keras.layers import Dense,Dropout,Embedding,LSTM,Conv1D,GlobalMaxPooling1D\n",
    "\n",
    "from tensorflow.keras.optimizers import Adam\n",
    "from keras.losses import binary_crossentropy\n",
    "\n",
    "\n",
    "model=Sequential()\n",
    "model.add(Embedding(60348,250,mask_zero=True))\n",
    "model.add(LSTM(128,return_sequences=True))\n",
    "model.add(Dropout(0.2))\n",
    "model.add(LSTM(64))\n",
    "model.add(Dropout(0.2))\n",
    "model.add(Dense(2,activation='softmax'))\n",
    "model.compile(loss='binary_crossentropy',optimizer='Adam',metrics=['accuracy'])\n",
    "model.summary()"
   ]
  },
  {
   "cell_type": "code",
   "execution_count": 28,
   "id": "d17cecbe",
   "metadata": {},
   "outputs": [
    {
     "name": "stdout",
     "output_type": "stream",
     "text": [
      "Epoch 1/5\n",
      "150/150 [==============================] - 290s 2s/step - loss: 0.4078 - accuracy: 0.8107 - val_loss: 0.3042 - val_accuracy: 0.8768\n",
      "Epoch 2/5\n",
      "150/150 [==============================] - 317s 2s/step - loss: 0.1873 - accuracy: 0.9355 - val_loss: 0.3207 - val_accuracy: 0.8691\n",
      "Epoch 3/5\n",
      "150/150 [==============================] - 323s 2s/step - loss: 0.1079 - accuracy: 0.9642 - val_loss: 0.3965 - val_accuracy: 0.8675\n",
      "Epoch 4/5\n",
      "150/150 [==============================] - 319s 2s/step - loss: 0.0594 - accuracy: 0.9808 - val_loss: 0.4864 - val_accuracy: 0.8700\n",
      "Epoch 5/5\n",
      "150/150 [==============================] - 331s 2s/step - loss: 0.0454 - accuracy: 0.9857 - val_loss: 0.4919 - val_accuracy: 0.8586\n"
     ]
    }
   ],
   "source": [
    "history=model.fit(X_train,y,validation_data=(X_val,y_val),epochs=5,batch_size=100,verbose=1)"
   ]
  },
  {
   "cell_type": "code",
   "execution_count": 37,
   "id": "0e90baa0",
   "metadata": {},
   "outputs": [],
   "source": [
    "y_pred=model.predict(X_test)"
   ]
  },
  {
   "cell_type": "code",
   "execution_count": 38,
   "id": "e400eb25",
   "metadata": {},
   "outputs": [
    {
     "data": {
      "text/plain": [
       "array([[4.0555101e-06, 9.9999595e-01],\n",
       "       [4.1896958e-05, 9.9995816e-01],\n",
       "       [3.4212288e-02, 9.6578771e-01],\n",
       "       ...,\n",
       "       [9.9999905e-01, 9.8160695e-07],\n",
       "       [1.6140483e-06, 9.9999833e-01],\n",
       "       [3.6208121e-06, 9.9999642e-01]], dtype=float32)"
      ]
     },
     "execution_count": 38,
     "metadata": {},
     "output_type": "execute_result"
    }
   ],
   "source": [
    "y_pred"
   ]
  },
  {
   "cell_type": "code",
   "execution_count": 50,
   "id": "dfc1a0ab",
   "metadata": {},
   "outputs": [],
   "source": [
    "y_p=[]\n",
    "for i in range(len(y_pred)):\n",
    "    y_p.append(np.argmax(y_pred[i]))"
   ]
  },
  {
   "cell_type": "code",
   "execution_count": 52,
   "id": "332b88c3",
   "metadata": {},
   "outputs": [],
   "source": [
    "y_p=np.array(y_p)"
   ]
  },
  {
   "cell_type": "code",
   "execution_count": 53,
   "id": "d57068d2",
   "metadata": {},
   "outputs": [],
   "source": [
    "from sklearn.metrics import confusion_matrix"
   ]
  },
  {
   "cell_type": "code",
   "execution_count": 55,
   "id": "826e027e",
   "metadata": {},
   "outputs": [
    {
     "data": {
      "text/plain": [
       "array([[0., 1.],\n",
       "       [0., 1.],\n",
       "       [1., 0.],\n",
       "       ...,\n",
       "       [1., 0.],\n",
       "       [0., 1.],\n",
       "       [0., 1.]], dtype=float32)"
      ]
     },
     "execution_count": 55,
     "metadata": {},
     "output_type": "execute_result"
    }
   ],
   "source": [
    "y_test"
   ]
  },
  {
   "cell_type": "code",
   "execution_count": 56,
   "id": "f05a5efb",
   "metadata": {},
   "outputs": [
    {
     "data": {
      "text/plain": [
       "array([[10354,  1741],\n",
       "       [ 2146, 10759]], dtype=int64)"
      ]
     },
     "execution_count": 56,
     "metadata": {},
     "output_type": "execute_result"
    }
   ],
   "source": [
    "confusion_matrix(y_p,target_y)"
   ]
  },
  {
   "cell_type": "code",
   "execution_count": 57,
   "id": "d9c445a3",
   "metadata": {},
   "outputs": [
    {
     "data": {
      "text/plain": [
       "0.84452"
      ]
     },
     "execution_count": 57,
     "metadata": {},
     "output_type": "execute_result"
    }
   ],
   "source": [
    "#14% recall and 16% precision\n",
    "from sklearn.metrics import accuracy_score\n",
    "accuracy_score(y_p,target_y)"
   ]
  },
  {
   "cell_type": "code",
   "execution_count": 66,
   "id": "8ca45030",
   "metadata": {},
   "outputs": [
    {
     "data": {
      "text/plain": [
       "Counter({1: 12905, 0: 12095})"
      ]
     },
     "execution_count": 66,
     "metadata": {},
     "output_type": "execute_result"
    }
   ],
   "source": [
    "from collections import Counter\n",
    "Counter(y_p)"
   ]
  },
  {
   "cell_type": "code",
   "execution_count": null,
   "id": "eee961fb",
   "metadata": {},
   "outputs": [],
   "source": [
    "\n"
   ]
  }
 ],
 "metadata": {
  "kernelspec": {
   "display_name": "Python 3 (ipykernel)",
   "language": "python",
   "name": "python3"
  },
  "language_info": {
   "codemirror_mode": {
    "name": "ipython",
    "version": 3
   },
   "file_extension": ".py",
   "mimetype": "text/x-python",
   "name": "python",
   "nbconvert_exporter": "python",
   "pygments_lexer": "ipython3",
   "version": "3.9.5"
  }
 },
 "nbformat": 4,
 "nbformat_minor": 5
}
